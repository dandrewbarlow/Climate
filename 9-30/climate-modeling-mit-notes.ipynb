{
 "cells": [
  {
   "cell_type": "code",
   "execution_count": 14,
   "source": [
    "import math\n",
    "import pandas as pd"
   ],
   "outputs": [],
   "metadata": {}
  },
  {
   "cell_type": "markdown",
   "source": [
    "# Climate Modeling\n",
    "\n",
    "Notes about climate modeling. [MIT](https://computationalthinking.mit.edu/Fall20/lecture20/)'s open courses have been a huge resource in this endeavor.\n",
    "\n",
    "# [Introduction to Climate Modeling](https://youtu.be/Gi4ZZVS2GLA)\n",
    "\n",
    "## Zero Dimensional Energy Balance Model\n",
    "\n",
    "### 1) Background Climate Physics\n",
    "\n",
    "Simplest climate model: \n",
    "\n",
    "$\\text{change in heat content} = \\text{absorbed solar radiation} - \\text{outgoing thermal radiation} + \\text{human caused greenhouse effect}$\n",
    "\n",
    "By interpreting as an average over entire globe, you can create a \"zero dimensional\" model.\n",
    "\n",
    "### 1.1) Absorbed Solar Radiation\n",
    "\n",
    "The power of the sun's rays that intercept the earth, $S$, is equal to $\\frac{W}{m^2}$ (energy p/ unit time p/ unit area)\n",
    "\n",
    "A small fraction, $\\alpha$, of solar radiation is reflected back to space. Remaining fraction ($1-\\alpha$) is absorbed.\n",
    "\n",
    "Since incoming solar rays $\\approx$ parallel, the cross-sectional area of earth that intercepts them is a disc, of area $\\pi R^2$. All other terms act on spherical surface area, $4\\pi R^2$, so absorbed solar radiation p/ unit surface area is reduced by a factor of 4. Vid explains this a little, but I'm taking it for granted\n",
    "\n",
    "Thus, $\\text{absorbed solar radiation} \\equiv \\frac{S(1-\\alpha)}{4}$"
   ],
   "metadata": {}
  },
  {
   "cell_type": "code",
   "execution_count": 15,
   "source": [
    "S = 1369\n",
    "alpha = 0.3\n",
    "def absorbed_solar_radiation(S=S, alpha=alpha):\n",
    "    return S * (1-alpha) / 4"
   ],
   "outputs": [],
   "metadata": {}
  },
  {
   "cell_type": "markdown",
   "source": [
    "### 1.2) Outgoing Thermal Radiation\n",
    "\n",
    "The outgoing thermal radiation term, $G(T)$ (or \"blackbody cooling to space\") represents the combined effects of *negative feedbacks that dampen warming*, such as **blackbody radiation**, and *positive feedbacks that amplify warming*, such as the **water vapor feedback**.\n",
    "\n",
    "Physics are complicated, so we *linearize* the model by considering only the 1st term of a Taylor Series expansion\n",
    "\n",
    "$G(T) \\approx G(T_0) + G'(T_0)(T-T_0) = G'(T_0)T + G(T_0) - G'(T+0)(T_0)$\n",
    "\n",
    "$T_0$, the pre-industrial equilibrium temperature $\\approx 14 \\degree C$\n",
    "\n",
    "Simplify the expression by defining\n",
    "\n",
    "$A \\equiv G(T_0) - G'(T_0)(T_0)$\n",
    "$B \\equiv G'(T_0)$ \n",
    "\n",
    "Where A is a constant, and B is the climate feedback parameter, giving\n",
    "\n",
    "$\\text{outgoing thermal radiation} \\equiv G(T) \\approx A - BT$"
   ],
   "metadata": {}
  },
  {
   "cell_type": "code",
   "execution_count": 16,
   "source": [
    "T0 = 14\n",
    "def outgoing_thermal_radiation(T, A, B):\n",
    "    return A - B * T"
   ],
   "outputs": [],
   "metadata": {}
  },
  {
   "cell_type": "markdown",
   "source": [
    "Climate Feedback Parameter $B \\frac{W}{m^2 \\degree C}$\n",
    "\n",
    "Since $B<0$, overall climate feedback is negative (stabilizing). Positive feedbacks increase $B$, and reduce the efficiency with which Earth cools by radiating thermal energy to space, thus amplifying warming."
   ],
   "metadata": {}
  },
  {
   "cell_type": "code",
   "execution_count": 17,
   "source": [
    "B = -1.3"
   ],
   "outputs": [],
   "metadata": {}
  },
  {
   "cell_type": "markdown",
   "source": [
    "$A$, is the model's equilibrium, in this case, the preindustrial equilibrium.\n",
    "\n",
    "$\\text{absorbed solar radiation} = \\text{outgoing thermal radiation}$\n",
    "\n",
    "or\n",
    "\n",
    "$\\frac{S(1-\\alpha)}{4} = A - BT_0$"
   ],
   "metadata": {}
  },
  {
   "cell_type": "code",
   "execution_count": 18,
   "source": [
    "A = S * (1. - alpha) / 4 + B * T0"
   ],
   "outputs": [],
   "metadata": {}
  },
  {
   "cell_type": "markdown",
   "source": [
    "### 1.3) Human-caused greenhouse effect\n",
    "\n",
    "Greenhouse effect is a logarithmic function of gaseous $CO_2$ concentrations\n",
    "\n",
    "* $a$: $CO_2$ forcing coefficient $(\\frac{W}{m^2})$\n",
    "* $[CO_2]_\\pi$: preindustrial $CO_2$ concentration $(\\text{ppm})$\n",
    "\n",
    "$\\text{greenhouse effect} = a \\cdot ln(\\frac{[CO_2]}{[CO_2]_\\pi})$"
   ],
   "metadata": {}
  },
  {
   "cell_type": "code",
   "execution_count": 19,
   "source": [
    "def greenhouse_effect(CO2, a, CO2_PI):\n",
    "    return a * math.log(CO2/CO2_PI)"
   ],
   "outputs": [],
   "metadata": {}
  },
  {
   "cell_type": "code",
   "execution_count": 20,
   "source": [
    "a = 5.0\n",
    "CO2_PI = 280.0"
   ],
   "outputs": [],
   "metadata": {}
  },
  {
   "cell_type": "markdown",
   "source": [
    "### 1.4) Change in Heat Content\n",
    "\n",
    "The heat content $CT$ is determined by the temperature $T$ (in Kelvin) and the heat capacity of the climate system. While we are interested in the temperature of the atmosphere, which has a very small heat capacity, its heat is closely coupled with that of the upper ocean, which has a much larger heat capacity of $\\approx 51 \\frac{J}{m^2 \\degree C}$"
   ],
   "metadata": {}
  },
  {
   "cell_type": "code",
   "execution_count": 21,
   "source": [
    "C = 51.0"
   ],
   "outputs": [],
   "metadata": {}
  },
  {
   "cell_type": "markdown",
   "source": [
    "The *change in heat content over time* is thus simply given by $\\frac{d(CT)}{dt}$. Since the heat capacity of sea water hardly changes with temperature, we can rewrite this in terms of the change in temperature with time as:\n",
    "\n",
    "${\\text{change in heat content } =\\; C \\frac{dT}{dt}}$"
   ],
   "metadata": {}
  },
  {
   "cell_type": "markdown",
   "source": [
    "### 1.5) 0-Dimensional Climate Model Equation\n",
    "\n",
    "Ordinary Differential Equation:\n",
    "\n",
    "$\\begin{gather}\n",
    "{C \\frac{dT}{dt}}\n",
    "\\; = \\; \\frac{(1 - α)S}{4}\n",
    "\\; - \\; (A - BT)\n",
    "\\; + \\; a \\ln \\left( \\frac{[\\text{CO}₂]}{[\\text{CO}₂]_{\\text{PI}}} \\right),\n",
    "\\end{gather}$"
   ],
   "metadata": {}
  },
  {
   "cell_type": "markdown",
   "source": [
    "## 2) Numerical solution method and data structures\n",
    "\n",
    "### 2.1) Discretization\n",
    "\n",
    "The energy balance model equation above can be **discretized** in time as\n",
    "\n",
    "$C \\frac{T(t+Δt) - T(t)}{\\Delta t} = \\frac{\\left( 1-\\alpha \\right) S}{4} - (A - BT(t)) + a \\ln \\left( \\frac{[\\text{CO}₂](t)}{[\\text{CO}₂]_{\\text{PI}}} \\right).$\n",
    "\n",
    "Our **finite difference equation**, which results from a first-order truncation of the Taylor series expansion, approximates the exact **ordinary differential equation** above in the limit that $\\Delta t \\rightarrow 0$. In practice, we can keep decreasing $\\Delta t$ until the solution converges within a tolerable error.\n",
    "Hereafter, we use the subscript $n$ to denote the $n$-th timestep, where $T_{n+1} \\equiv T(t_{n+1})$ denotes the temperature at the next timestep $t_{n+1} = t_{n} + \\Delta t$.\n",
    "\n",
    "By re-arranging the equation, we can solve for the temperature at the next timestep $n+1$ based on the known temperature at the present timestep $n$:\n",
    "\n",
    "$T_{n+1} = T_{n} + \\frac{\\Delta t}{C} \\left[ \\frac{ \\left( 1-\\alpha \\right) S}{4} - (A - BT_{n}) + a \\ln \\left( \\frac{[\\text{CO}₂]_{n}}{[\\text{CO}₂]_{\\text{PI}}} \\right) \\right]$"
   ],
   "metadata": {}
  },
  {
   "cell_type": "markdown",
   "source": [
    "### 2.2) Timestepping\n",
    "More generally, we recognize this equation to be of the form:\n",
    "$T_{n+1} = T_{n} + \\Delta t * \\text{tendency}(T_{n} \\,; ...),$\n",
    "which we implement below (don't forget to update the time as well, $t_{n+1} = t_{n} + \\Delta t$), which takes in an instance of our anticipated energy balance model `EBM` type as its only argument."
   ],
   "metadata": {}
  },
  {
   "cell_type": "code",
   "execution_count": 22,
   "source": [
    "# dataframe w/ the model value, time, and the rate of time change for each step\n",
    "ebm = pd.DataFrame(\n",
    "                { 'T': [T0] },\n",
    "                { 'time': [0] },\n",
    "                { 'delta_t': 0.01 }\n",
    "                )\n",
    "\n",
    "def time_step(ebm):\n",
    "    # calculate T_n+1\n",
    "    ebm['T'].append(ebm['T'][-1] + ebm['delta_t'] * tendency(ebm))\n",
    "    # t += delta_t\n",
    "    ebm['time'].append(ebm['time'][-1] + ebm['delta_t'])\n",
    "\n",
    "def tendency(ebm):\n",
    "    (ebm['delta_t'] / C) * (\n",
    "        + absorbed_solar_radiation(S, alpha)\n",
    "        - outgoing_thermal_radiation(ebm['T'][-1], A, B)\n",
    "        + greenhouse_effect( CO2(emb['T'][-1]), a, CO2_PI )\n",
    "    )"
   ],
   "outputs": [],
   "metadata": {}
  }
 ],
 "metadata": {
  "orig_nbformat": 4,
  "language_info": {
   "name": "python",
   "version": "3.9.7",
   "mimetype": "text/x-python",
   "codemirror_mode": {
    "name": "ipython",
    "version": 3
   },
   "pygments_lexer": "ipython3",
   "nbconvert_exporter": "python",
   "file_extension": ".py"
  },
  "kernelspec": {
   "name": "python3",
   "display_name": "Python 3.9.7 64-bit"
  },
  "interpreter": {
   "hash": "767d51c1340bd893661ea55ea3124f6de3c7a262a8b4abca0554b478b1e2ff90"
  }
 },
 "nbformat": 4,
 "nbformat_minor": 2
}